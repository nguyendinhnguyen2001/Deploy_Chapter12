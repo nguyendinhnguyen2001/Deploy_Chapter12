{
 "cells": [
  {
   "cell_type": "markdown",
   "id": "b7749d8d",
   "metadata": {},
   "source": [
    "LẤY DỮ LIỆU ĐỂ TRIỂN KHAI MÔ HÌNH"
   ]
  },
  {
   "cell_type": "code",
   "execution_count": 2,
   "id": "1aec83b0",
   "metadata": {},
   "outputs": [],
   "source": [
    "#khai báo các thư viện \n",
    "import numpy as np\n",
    "import pandas as pd\n",
    "import matplotlib.pyplot as plt"
   ]
  },
  {
   "cell_type": "code",
   "execution_count": 3,
   "id": "dcc399e7",
   "metadata": {},
   "outputs": [],
   "source": [
    "#tải dữ liệu từ file diabetes.csv\n",
    "df=pd.read_csv('diabetes.csv')"
   ]
  },
  {
   "cell_type": "code",
   "execution_count": 4,
   "id": "c6c52dc4",
   "metadata": {},
   "outputs": [
    {
     "name": "stdout",
     "output_type": "stream",
     "text": [
      "<class 'pandas.core.frame.DataFrame'>\n",
      "RangeIndex: 768 entries, 0 to 767\n",
      "Data columns (total 9 columns):\n",
      " #   Column                    Non-Null Count  Dtype  \n",
      "---  ------                    --------------  -----  \n",
      " 0   Pregnancies               768 non-null    int64  \n",
      " 1   Glucose                   768 non-null    int64  \n",
      " 2   BloodPressure             768 non-null    int64  \n",
      " 3   SkinThickness             768 non-null    int64  \n",
      " 4   Insulin                   768 non-null    int64  \n",
      " 5   BMI                       768 non-null    float64\n",
      " 6   DiabetesPedigreeFunction  768 non-null    float64\n",
      " 7   Age                       768 non-null    int64  \n",
      " 8   Outcome                   768 non-null    int64  \n",
      "dtypes: float64(2), int64(7)\n",
      "memory usage: 54.1 KB\n"
     ]
    }
   ],
   "source": [
    "#liệt kê trường dữ liệu trong df\n",
    "df.info()"
   ]
  },
  {
   "cell_type": "markdown",
   "id": "1f06a3e2",
   "metadata": {},
   "source": [
    "LÀM SẠCH DỮ LIỆU"
   ]
  },
  {
   "cell_type": "code",
   "execution_count": 5,
   "id": "9b764662",
   "metadata": {},
   "outputs": [
    {
     "data": {
      "text/html": [
       "<div>\n",
       "<style scoped>\n",
       "    .dataframe tbody tr th:only-of-type {\n",
       "        vertical-align: middle;\n",
       "    }\n",
       "\n",
       "    .dataframe tbody tr th {\n",
       "        vertical-align: top;\n",
       "    }\n",
       "\n",
       "    .dataframe thead th {\n",
       "        text-align: right;\n",
       "    }\n",
       "</style>\n",
       "<table border=\"1\" class=\"dataframe\">\n",
       "  <thead>\n",
       "    <tr style=\"text-align: right;\">\n",
       "      <th></th>\n",
       "      <th>Pregnancies</th>\n",
       "      <th>Glucose</th>\n",
       "      <th>BloodPressure</th>\n",
       "      <th>SkinThickness</th>\n",
       "      <th>Insulin</th>\n",
       "      <th>BMI</th>\n",
       "      <th>DiabetesPedigreeFunction</th>\n",
       "      <th>Age</th>\n",
       "      <th>Outcome</th>\n",
       "    </tr>\n",
       "  </thead>\n",
       "  <tbody>\n",
       "    <tr>\n",
       "      <th>0</th>\n",
       "      <td>6</td>\n",
       "      <td>148</td>\n",
       "      <td>72</td>\n",
       "      <td>35</td>\n",
       "      <td>0</td>\n",
       "      <td>33.6</td>\n",
       "      <td>0.627</td>\n",
       "      <td>50</td>\n",
       "      <td>1</td>\n",
       "    </tr>\n",
       "    <tr>\n",
       "      <th>1</th>\n",
       "      <td>1</td>\n",
       "      <td>85</td>\n",
       "      <td>66</td>\n",
       "      <td>29</td>\n",
       "      <td>0</td>\n",
       "      <td>26.6</td>\n",
       "      <td>0.351</td>\n",
       "      <td>31</td>\n",
       "      <td>0</td>\n",
       "    </tr>\n",
       "    <tr>\n",
       "      <th>2</th>\n",
       "      <td>8</td>\n",
       "      <td>183</td>\n",
       "      <td>64</td>\n",
       "      <td>0</td>\n",
       "      <td>0</td>\n",
       "      <td>23.3</td>\n",
       "      <td>0.672</td>\n",
       "      <td>32</td>\n",
       "      <td>1</td>\n",
       "    </tr>\n",
       "    <tr>\n",
       "      <th>3</th>\n",
       "      <td>1</td>\n",
       "      <td>89</td>\n",
       "      <td>66</td>\n",
       "      <td>23</td>\n",
       "      <td>94</td>\n",
       "      <td>28.1</td>\n",
       "      <td>0.167</td>\n",
       "      <td>21</td>\n",
       "      <td>0</td>\n",
       "    </tr>\n",
       "    <tr>\n",
       "      <th>4</th>\n",
       "      <td>0</td>\n",
       "      <td>137</td>\n",
       "      <td>40</td>\n",
       "      <td>35</td>\n",
       "      <td>168</td>\n",
       "      <td>43.1</td>\n",
       "      <td>2.288</td>\n",
       "      <td>33</td>\n",
       "      <td>1</td>\n",
       "    </tr>\n",
       "    <tr>\n",
       "      <th>5</th>\n",
       "      <td>5</td>\n",
       "      <td>116</td>\n",
       "      <td>74</td>\n",
       "      <td>0</td>\n",
       "      <td>0</td>\n",
       "      <td>25.6</td>\n",
       "      <td>0.201</td>\n",
       "      <td>30</td>\n",
       "      <td>0</td>\n",
       "    </tr>\n",
       "    <tr>\n",
       "      <th>6</th>\n",
       "      <td>3</td>\n",
       "      <td>78</td>\n",
       "      <td>50</td>\n",
       "      <td>32</td>\n",
       "      <td>88</td>\n",
       "      <td>31.0</td>\n",
       "      <td>0.248</td>\n",
       "      <td>26</td>\n",
       "      <td>1</td>\n",
       "    </tr>\n",
       "    <tr>\n",
       "      <th>7</th>\n",
       "      <td>10</td>\n",
       "      <td>115</td>\n",
       "      <td>0</td>\n",
       "      <td>0</td>\n",
       "      <td>0</td>\n",
       "      <td>35.3</td>\n",
       "      <td>0.134</td>\n",
       "      <td>29</td>\n",
       "      <td>0</td>\n",
       "    </tr>\n",
       "    <tr>\n",
       "      <th>8</th>\n",
       "      <td>2</td>\n",
       "      <td>197</td>\n",
       "      <td>70</td>\n",
       "      <td>45</td>\n",
       "      <td>543</td>\n",
       "      <td>30.5</td>\n",
       "      <td>0.158</td>\n",
       "      <td>53</td>\n",
       "      <td>1</td>\n",
       "    </tr>\n",
       "    <tr>\n",
       "      <th>9</th>\n",
       "      <td>8</td>\n",
       "      <td>125</td>\n",
       "      <td>96</td>\n",
       "      <td>0</td>\n",
       "      <td>0</td>\n",
       "      <td>0.0</td>\n",
       "      <td>0.232</td>\n",
       "      <td>54</td>\n",
       "      <td>1</td>\n",
       "    </tr>\n",
       "  </tbody>\n",
       "</table>\n",
       "</div>"
      ],
      "text/plain": [
       "   Pregnancies  Glucose  BloodPressure  SkinThickness  Insulin   BMI  \\\n",
       "0            6      148             72             35        0  33.6   \n",
       "1            1       85             66             29        0  26.6   \n",
       "2            8      183             64              0        0  23.3   \n",
       "3            1       89             66             23       94  28.1   \n",
       "4            0      137             40             35      168  43.1   \n",
       "5            5      116             74              0        0  25.6   \n",
       "6            3       78             50             32       88  31.0   \n",
       "7           10      115              0              0        0  35.3   \n",
       "8            2      197             70             45      543  30.5   \n",
       "9            8      125             96              0        0   0.0   \n",
       "\n",
       "   DiabetesPedigreeFunction  Age  Outcome  \n",
       "0                     0.627   50        1  \n",
       "1                     0.351   31        0  \n",
       "2                     0.672   32        1  \n",
       "3                     0.167   21        0  \n",
       "4                     2.288   33        1  \n",
       "5                     0.201   30        0  \n",
       "6                     0.248   26        1  \n",
       "7                     0.134   29        0  \n",
       "8                     0.158   53        1  \n",
       "9                     0.232   54        1  "
      ]
     },
     "execution_count": 5,
     "metadata": {},
     "output_type": "execute_result"
    }
   ],
   "source": [
    "df.head(10)"
   ]
  },
  {
   "cell_type": "code",
   "execution_count": 6,
   "id": "91b45e67",
   "metadata": {},
   "outputs": [
    {
     "data": {
      "text/plain": [
       "Pregnancies                 0\n",
       "Glucose                     0\n",
       "BloodPressure               0\n",
       "SkinThickness               0\n",
       "Insulin                     0\n",
       "BMI                         0\n",
       "DiabetesPedigreeFunction    0\n",
       "Age                         0\n",
       "Outcome                     0\n",
       "dtype: int64"
      ]
     },
     "execution_count": 6,
     "metadata": {},
     "output_type": "execute_result"
    }
   ],
   "source": [
    "#kiểm tra các giá trị null có trong df\n",
    "df.isnull().sum()"
   ]
  },
  {
   "cell_type": "code",
   "execution_count": 8,
   "id": "52fda1b1",
   "metadata": {},
   "outputs": [
    {
     "data": {
      "text/plain": [
       "Pregnancies                 111\n",
       "Glucose                       5\n",
       "BloodPressure                35\n",
       "SkinThickness               227\n",
       "Insulin                     374\n",
       "BMI                          11\n",
       "DiabetesPedigreeFunction      0\n",
       "Age                           0\n",
       "Outcome                     500\n",
       "dtype: int64"
      ]
     },
     "execution_count": 8,
     "metadata": {},
     "output_type": "execute_result"
    }
   ],
   "source": [
    "#Kiểm tra các giá trị 0 trong df\n",
    "df.eq(0).sum()"
   ]
  },
  {
   "cell_type": "code",
   "execution_count": 9,
   "id": "72985bd7",
   "metadata": {},
   "outputs": [],
   "source": [
    "#Các giá trị 0 này sẽ được thay bằng giá trị NaN\n",
    "df[['Glucose','BloodPressure','SkinThickness','Insulin','BMI','DiabetesPedigreeFunction','Age']] = \\\n",
    " df[['Glucose','BloodPressure','SkinThickness','Insulin','BMI','DiabetesPedigreeFunction','Age']].replace(0,np.NaN)"
   ]
  },
  {
   "cell_type": "code",
   "execution_count": 10,
   "id": "af04d770",
   "metadata": {},
   "outputs": [
    {
     "data": {
      "text/html": [
       "<div>\n",
       "<style scoped>\n",
       "    .dataframe tbody tr th:only-of-type {\n",
       "        vertical-align: middle;\n",
       "    }\n",
       "\n",
       "    .dataframe tbody tr th {\n",
       "        vertical-align: top;\n",
       "    }\n",
       "\n",
       "    .dataframe thead th {\n",
       "        text-align: right;\n",
       "    }\n",
       "</style>\n",
       "<table border=\"1\" class=\"dataframe\">\n",
       "  <thead>\n",
       "    <tr style=\"text-align: right;\">\n",
       "      <th></th>\n",
       "      <th>Pregnancies</th>\n",
       "      <th>Glucose</th>\n",
       "      <th>BloodPressure</th>\n",
       "      <th>SkinThickness</th>\n",
       "      <th>Insulin</th>\n",
       "      <th>BMI</th>\n",
       "      <th>DiabetesPedigreeFunction</th>\n",
       "      <th>Age</th>\n",
       "      <th>Outcome</th>\n",
       "    </tr>\n",
       "  </thead>\n",
       "  <tbody>\n",
       "    <tr>\n",
       "      <th>0</th>\n",
       "      <td>6</td>\n",
       "      <td>148.0</td>\n",
       "      <td>72.0</td>\n",
       "      <td>35.0</td>\n",
       "      <td>NaN</td>\n",
       "      <td>33.6</td>\n",
       "      <td>0.627</td>\n",
       "      <td>50</td>\n",
       "      <td>1</td>\n",
       "    </tr>\n",
       "    <tr>\n",
       "      <th>1</th>\n",
       "      <td>1</td>\n",
       "      <td>85.0</td>\n",
       "      <td>66.0</td>\n",
       "      <td>29.0</td>\n",
       "      <td>NaN</td>\n",
       "      <td>26.6</td>\n",
       "      <td>0.351</td>\n",
       "      <td>31</td>\n",
       "      <td>0</td>\n",
       "    </tr>\n",
       "    <tr>\n",
       "      <th>2</th>\n",
       "      <td>8</td>\n",
       "      <td>183.0</td>\n",
       "      <td>64.0</td>\n",
       "      <td>NaN</td>\n",
       "      <td>NaN</td>\n",
       "      <td>23.3</td>\n",
       "      <td>0.672</td>\n",
       "      <td>32</td>\n",
       "      <td>1</td>\n",
       "    </tr>\n",
       "    <tr>\n",
       "      <th>3</th>\n",
       "      <td>1</td>\n",
       "      <td>89.0</td>\n",
       "      <td>66.0</td>\n",
       "      <td>23.0</td>\n",
       "      <td>94.0</td>\n",
       "      <td>28.1</td>\n",
       "      <td>0.167</td>\n",
       "      <td>21</td>\n",
       "      <td>0</td>\n",
       "    </tr>\n",
       "    <tr>\n",
       "      <th>4</th>\n",
       "      <td>0</td>\n",
       "      <td>137.0</td>\n",
       "      <td>40.0</td>\n",
       "      <td>35.0</td>\n",
       "      <td>168.0</td>\n",
       "      <td>43.1</td>\n",
       "      <td>2.288</td>\n",
       "      <td>33</td>\n",
       "      <td>1</td>\n",
       "    </tr>\n",
       "    <tr>\n",
       "      <th>5</th>\n",
       "      <td>5</td>\n",
       "      <td>116.0</td>\n",
       "      <td>74.0</td>\n",
       "      <td>NaN</td>\n",
       "      <td>NaN</td>\n",
       "      <td>25.6</td>\n",
       "      <td>0.201</td>\n",
       "      <td>30</td>\n",
       "      <td>0</td>\n",
       "    </tr>\n",
       "    <tr>\n",
       "      <th>6</th>\n",
       "      <td>3</td>\n",
       "      <td>78.0</td>\n",
       "      <td>50.0</td>\n",
       "      <td>32.0</td>\n",
       "      <td>88.0</td>\n",
       "      <td>31.0</td>\n",
       "      <td>0.248</td>\n",
       "      <td>26</td>\n",
       "      <td>1</td>\n",
       "    </tr>\n",
       "    <tr>\n",
       "      <th>7</th>\n",
       "      <td>10</td>\n",
       "      <td>115.0</td>\n",
       "      <td>NaN</td>\n",
       "      <td>NaN</td>\n",
       "      <td>NaN</td>\n",
       "      <td>35.3</td>\n",
       "      <td>0.134</td>\n",
       "      <td>29</td>\n",
       "      <td>0</td>\n",
       "    </tr>\n",
       "    <tr>\n",
       "      <th>8</th>\n",
       "      <td>2</td>\n",
       "      <td>197.0</td>\n",
       "      <td>70.0</td>\n",
       "      <td>45.0</td>\n",
       "      <td>543.0</td>\n",
       "      <td>30.5</td>\n",
       "      <td>0.158</td>\n",
       "      <td>53</td>\n",
       "      <td>1</td>\n",
       "    </tr>\n",
       "    <tr>\n",
       "      <th>9</th>\n",
       "      <td>8</td>\n",
       "      <td>125.0</td>\n",
       "      <td>96.0</td>\n",
       "      <td>NaN</td>\n",
       "      <td>NaN</td>\n",
       "      <td>NaN</td>\n",
       "      <td>0.232</td>\n",
       "      <td>54</td>\n",
       "      <td>1</td>\n",
       "    </tr>\n",
       "  </tbody>\n",
       "</table>\n",
       "</div>"
      ],
      "text/plain": [
       "   Pregnancies  Glucose  BloodPressure  SkinThickness  Insulin   BMI  \\\n",
       "0            6    148.0           72.0           35.0      NaN  33.6   \n",
       "1            1     85.0           66.0           29.0      NaN  26.6   \n",
       "2            8    183.0           64.0            NaN      NaN  23.3   \n",
       "3            1     89.0           66.0           23.0     94.0  28.1   \n",
       "4            0    137.0           40.0           35.0    168.0  43.1   \n",
       "5            5    116.0           74.0            NaN      NaN  25.6   \n",
       "6            3     78.0           50.0           32.0     88.0  31.0   \n",
       "7           10    115.0            NaN            NaN      NaN  35.3   \n",
       "8            2    197.0           70.0           45.0    543.0  30.5   \n",
       "9            8    125.0           96.0            NaN      NaN   NaN   \n",
       "\n",
       "   DiabetesPedigreeFunction  Age  Outcome  \n",
       "0                     0.627   50        1  \n",
       "1                     0.351   31        0  \n",
       "2                     0.672   32        1  \n",
       "3                     0.167   21        0  \n",
       "4                     2.288   33        1  \n",
       "5                     0.201   30        0  \n",
       "6                     0.248   26        1  \n",
       "7                     0.134   29        0  \n",
       "8                     0.158   53        1  \n",
       "9                     0.232   54        1  "
      ]
     },
     "execution_count": 10,
     "metadata": {},
     "output_type": "execute_result"
    }
   ],
   "source": [
    "df.head(10)"
   ]
  },
  {
   "cell_type": "code",
   "execution_count": 11,
   "id": "a83de8a6",
   "metadata": {},
   "outputs": [],
   "source": [
    "#Các giá trị NaN sẽ thay thế bởi các giá trị trung bình của cột df\n",
    "df.fillna(df.mean(), inplace = True)"
   ]
  },
  {
   "cell_type": "code",
   "execution_count": 12,
   "id": "0546c2df",
   "metadata": {},
   "outputs": [
    {
     "data": {
      "text/html": [
       "<div>\n",
       "<style scoped>\n",
       "    .dataframe tbody tr th:only-of-type {\n",
       "        vertical-align: middle;\n",
       "    }\n",
       "\n",
       "    .dataframe tbody tr th {\n",
       "        vertical-align: top;\n",
       "    }\n",
       "\n",
       "    .dataframe thead th {\n",
       "        text-align: right;\n",
       "    }\n",
       "</style>\n",
       "<table border=\"1\" class=\"dataframe\">\n",
       "  <thead>\n",
       "    <tr style=\"text-align: right;\">\n",
       "      <th></th>\n",
       "      <th>Pregnancies</th>\n",
       "      <th>Glucose</th>\n",
       "      <th>BloodPressure</th>\n",
       "      <th>SkinThickness</th>\n",
       "      <th>Insulin</th>\n",
       "      <th>BMI</th>\n",
       "      <th>DiabetesPedigreeFunction</th>\n",
       "      <th>Age</th>\n",
       "      <th>Outcome</th>\n",
       "    </tr>\n",
       "  </thead>\n",
       "  <tbody>\n",
       "    <tr>\n",
       "      <th>0</th>\n",
       "      <td>6</td>\n",
       "      <td>148.0</td>\n",
       "      <td>72.000000</td>\n",
       "      <td>35.00000</td>\n",
       "      <td>155.548223</td>\n",
       "      <td>33.600000</td>\n",
       "      <td>0.627</td>\n",
       "      <td>50</td>\n",
       "      <td>1</td>\n",
       "    </tr>\n",
       "    <tr>\n",
       "      <th>1</th>\n",
       "      <td>1</td>\n",
       "      <td>85.0</td>\n",
       "      <td>66.000000</td>\n",
       "      <td>29.00000</td>\n",
       "      <td>155.548223</td>\n",
       "      <td>26.600000</td>\n",
       "      <td>0.351</td>\n",
       "      <td>31</td>\n",
       "      <td>0</td>\n",
       "    </tr>\n",
       "    <tr>\n",
       "      <th>2</th>\n",
       "      <td>8</td>\n",
       "      <td>183.0</td>\n",
       "      <td>64.000000</td>\n",
       "      <td>29.15342</td>\n",
       "      <td>155.548223</td>\n",
       "      <td>23.300000</td>\n",
       "      <td>0.672</td>\n",
       "      <td>32</td>\n",
       "      <td>1</td>\n",
       "    </tr>\n",
       "    <tr>\n",
       "      <th>3</th>\n",
       "      <td>1</td>\n",
       "      <td>89.0</td>\n",
       "      <td>66.000000</td>\n",
       "      <td>23.00000</td>\n",
       "      <td>94.000000</td>\n",
       "      <td>28.100000</td>\n",
       "      <td>0.167</td>\n",
       "      <td>21</td>\n",
       "      <td>0</td>\n",
       "    </tr>\n",
       "    <tr>\n",
       "      <th>4</th>\n",
       "      <td>0</td>\n",
       "      <td>137.0</td>\n",
       "      <td>40.000000</td>\n",
       "      <td>35.00000</td>\n",
       "      <td>168.000000</td>\n",
       "      <td>43.100000</td>\n",
       "      <td>2.288</td>\n",
       "      <td>33</td>\n",
       "      <td>1</td>\n",
       "    </tr>\n",
       "    <tr>\n",
       "      <th>5</th>\n",
       "      <td>5</td>\n",
       "      <td>116.0</td>\n",
       "      <td>74.000000</td>\n",
       "      <td>29.15342</td>\n",
       "      <td>155.548223</td>\n",
       "      <td>25.600000</td>\n",
       "      <td>0.201</td>\n",
       "      <td>30</td>\n",
       "      <td>0</td>\n",
       "    </tr>\n",
       "    <tr>\n",
       "      <th>6</th>\n",
       "      <td>3</td>\n",
       "      <td>78.0</td>\n",
       "      <td>50.000000</td>\n",
       "      <td>32.00000</td>\n",
       "      <td>88.000000</td>\n",
       "      <td>31.000000</td>\n",
       "      <td>0.248</td>\n",
       "      <td>26</td>\n",
       "      <td>1</td>\n",
       "    </tr>\n",
       "    <tr>\n",
       "      <th>7</th>\n",
       "      <td>10</td>\n",
       "      <td>115.0</td>\n",
       "      <td>72.405184</td>\n",
       "      <td>29.15342</td>\n",
       "      <td>155.548223</td>\n",
       "      <td>35.300000</td>\n",
       "      <td>0.134</td>\n",
       "      <td>29</td>\n",
       "      <td>0</td>\n",
       "    </tr>\n",
       "    <tr>\n",
       "      <th>8</th>\n",
       "      <td>2</td>\n",
       "      <td>197.0</td>\n",
       "      <td>70.000000</td>\n",
       "      <td>45.00000</td>\n",
       "      <td>543.000000</td>\n",
       "      <td>30.500000</td>\n",
       "      <td>0.158</td>\n",
       "      <td>53</td>\n",
       "      <td>1</td>\n",
       "    </tr>\n",
       "    <tr>\n",
       "      <th>9</th>\n",
       "      <td>8</td>\n",
       "      <td>125.0</td>\n",
       "      <td>96.000000</td>\n",
       "      <td>29.15342</td>\n",
       "      <td>155.548223</td>\n",
       "      <td>32.457464</td>\n",
       "      <td>0.232</td>\n",
       "      <td>54</td>\n",
       "      <td>1</td>\n",
       "    </tr>\n",
       "  </tbody>\n",
       "</table>\n",
       "</div>"
      ],
      "text/plain": [
       "   Pregnancies  Glucose  BloodPressure  SkinThickness     Insulin        BMI  \\\n",
       "0            6    148.0      72.000000       35.00000  155.548223  33.600000   \n",
       "1            1     85.0      66.000000       29.00000  155.548223  26.600000   \n",
       "2            8    183.0      64.000000       29.15342  155.548223  23.300000   \n",
       "3            1     89.0      66.000000       23.00000   94.000000  28.100000   \n",
       "4            0    137.0      40.000000       35.00000  168.000000  43.100000   \n",
       "5            5    116.0      74.000000       29.15342  155.548223  25.600000   \n",
       "6            3     78.0      50.000000       32.00000   88.000000  31.000000   \n",
       "7           10    115.0      72.405184       29.15342  155.548223  35.300000   \n",
       "8            2    197.0      70.000000       45.00000  543.000000  30.500000   \n",
       "9            8    125.0      96.000000       29.15342  155.548223  32.457464   \n",
       "\n",
       "   DiabetesPedigreeFunction  Age  Outcome  \n",
       "0                     0.627   50        1  \n",
       "1                     0.351   31        0  \n",
       "2                     0.672   32        1  \n",
       "3                     0.167   21        0  \n",
       "4                     2.288   33        1  \n",
       "5                     0.201   30        0  \n",
       "6                     0.248   26        1  \n",
       "7                     0.134   29        0  \n",
       "8                     0.158   53        1  \n",
       "9                     0.232   54        1  "
      ]
     },
     "execution_count": 12,
     "metadata": {},
     "output_type": "execute_result"
    }
   ],
   "source": [
    "df.head(10)"
   ]
  },
  {
   "cell_type": "code",
   "execution_count": 14,
   "id": "68659437",
   "metadata": {},
   "outputs": [
    {
     "data": {
      "text/plain": [
       "Pregnancies                 111\n",
       "Glucose                       0\n",
       "BloodPressure                 0\n",
       "SkinThickness                 0\n",
       "Insulin                       0\n",
       "BMI                           0\n",
       "DiabetesPedigreeFunction      0\n",
       "Age                           0\n",
       "Outcome                     500\n",
       "dtype: int64"
      ]
     },
     "execution_count": 14,
     "metadata": {},
     "output_type": "execute_result"
    }
   ],
   "source": [
    "#Kiểm tra lại các giá trị 0 trong df\n",
    "df.eq(0).sum()"
   ]
  },
  {
   "cell_type": "markdown",
   "id": "6171d642",
   "metadata": {},
   "source": [
    "KIỂM TRA MỐI TƯƠNG QUAN GIỮA CÁC CỘT(FEATURES) TRONG DF"
   ]
  },
  {
   "cell_type": "code",
   "execution_count": 15,
   "id": "c1fde14c",
   "metadata": {},
   "outputs": [],
   "source": [
    "#hàm corr cho thống kê về mối tương quan giữa các features\n",
    "corr=df.corr()"
   ]
  },
  {
   "cell_type": "code",
   "execution_count": 16,
   "id": "b5adc392",
   "metadata": {},
   "outputs": [
    {
     "data": {
      "text/html": [
       "<div>\n",
       "<style scoped>\n",
       "    .dataframe tbody tr th:only-of-type {\n",
       "        vertical-align: middle;\n",
       "    }\n",
       "\n",
       "    .dataframe tbody tr th {\n",
       "        vertical-align: top;\n",
       "    }\n",
       "\n",
       "    .dataframe thead th {\n",
       "        text-align: right;\n",
       "    }\n",
       "</style>\n",
       "<table border=\"1\" class=\"dataframe\">\n",
       "  <thead>\n",
       "    <tr style=\"text-align: right;\">\n",
       "      <th></th>\n",
       "      <th>Pregnancies</th>\n",
       "      <th>Glucose</th>\n",
       "      <th>BloodPressure</th>\n",
       "      <th>SkinThickness</th>\n",
       "      <th>Insulin</th>\n",
       "      <th>BMI</th>\n",
       "      <th>DiabetesPedigreeFunction</th>\n",
       "      <th>Age</th>\n",
       "      <th>Outcome</th>\n",
       "    </tr>\n",
       "  </thead>\n",
       "  <tbody>\n",
       "    <tr>\n",
       "      <th>Pregnancies</th>\n",
       "      <td>1.000000</td>\n",
       "      <td>0.127911</td>\n",
       "      <td>0.208522</td>\n",
       "      <td>0.082989</td>\n",
       "      <td>0.056027</td>\n",
       "      <td>0.021565</td>\n",
       "      <td>-0.033523</td>\n",
       "      <td>0.544341</td>\n",
       "      <td>0.221898</td>\n",
       "    </tr>\n",
       "    <tr>\n",
       "      <th>Glucose</th>\n",
       "      <td>0.127911</td>\n",
       "      <td>1.000000</td>\n",
       "      <td>0.218367</td>\n",
       "      <td>0.192991</td>\n",
       "      <td>0.420157</td>\n",
       "      <td>0.230941</td>\n",
       "      <td>0.137060</td>\n",
       "      <td>0.266534</td>\n",
       "      <td>0.492928</td>\n",
       "    </tr>\n",
       "    <tr>\n",
       "      <th>BloodPressure</th>\n",
       "      <td>0.208522</td>\n",
       "      <td>0.218367</td>\n",
       "      <td>1.000000</td>\n",
       "      <td>0.192816</td>\n",
       "      <td>0.072517</td>\n",
       "      <td>0.281268</td>\n",
       "      <td>-0.002763</td>\n",
       "      <td>0.324595</td>\n",
       "      <td>0.166074</td>\n",
       "    </tr>\n",
       "    <tr>\n",
       "      <th>SkinThickness</th>\n",
       "      <td>0.082989</td>\n",
       "      <td>0.192991</td>\n",
       "      <td>0.192816</td>\n",
       "      <td>1.000000</td>\n",
       "      <td>0.158139</td>\n",
       "      <td>0.542398</td>\n",
       "      <td>0.100966</td>\n",
       "      <td>0.127872</td>\n",
       "      <td>0.215299</td>\n",
       "    </tr>\n",
       "    <tr>\n",
       "      <th>Insulin</th>\n",
       "      <td>0.056027</td>\n",
       "      <td>0.420157</td>\n",
       "      <td>0.072517</td>\n",
       "      <td>0.158139</td>\n",
       "      <td>1.000000</td>\n",
       "      <td>0.166586</td>\n",
       "      <td>0.098634</td>\n",
       "      <td>0.136734</td>\n",
       "      <td>0.214411</td>\n",
       "    </tr>\n",
       "    <tr>\n",
       "      <th>BMI</th>\n",
       "      <td>0.021565</td>\n",
       "      <td>0.230941</td>\n",
       "      <td>0.281268</td>\n",
       "      <td>0.542398</td>\n",
       "      <td>0.166586</td>\n",
       "      <td>1.000000</td>\n",
       "      <td>0.153400</td>\n",
       "      <td>0.025519</td>\n",
       "      <td>0.311924</td>\n",
       "    </tr>\n",
       "    <tr>\n",
       "      <th>DiabetesPedigreeFunction</th>\n",
       "      <td>-0.033523</td>\n",
       "      <td>0.137060</td>\n",
       "      <td>-0.002763</td>\n",
       "      <td>0.100966</td>\n",
       "      <td>0.098634</td>\n",
       "      <td>0.153400</td>\n",
       "      <td>1.000000</td>\n",
       "      <td>0.033561</td>\n",
       "      <td>0.173844</td>\n",
       "    </tr>\n",
       "    <tr>\n",
       "      <th>Age</th>\n",
       "      <td>0.544341</td>\n",
       "      <td>0.266534</td>\n",
       "      <td>0.324595</td>\n",
       "      <td>0.127872</td>\n",
       "      <td>0.136734</td>\n",
       "      <td>0.025519</td>\n",
       "      <td>0.033561</td>\n",
       "      <td>1.000000</td>\n",
       "      <td>0.238356</td>\n",
       "    </tr>\n",
       "    <tr>\n",
       "      <th>Outcome</th>\n",
       "      <td>0.221898</td>\n",
       "      <td>0.492928</td>\n",
       "      <td>0.166074</td>\n",
       "      <td>0.215299</td>\n",
       "      <td>0.214411</td>\n",
       "      <td>0.311924</td>\n",
       "      <td>0.173844</td>\n",
       "      <td>0.238356</td>\n",
       "      <td>1.000000</td>\n",
       "    </tr>\n",
       "  </tbody>\n",
       "</table>\n",
       "</div>"
      ],
      "text/plain": [
       "                          Pregnancies   Glucose  BloodPressure  SkinThickness  \\\n",
       "Pregnancies                  1.000000  0.127911       0.208522       0.082989   \n",
       "Glucose                      0.127911  1.000000       0.218367       0.192991   \n",
       "BloodPressure                0.208522  0.218367       1.000000       0.192816   \n",
       "SkinThickness                0.082989  0.192991       0.192816       1.000000   \n",
       "Insulin                      0.056027  0.420157       0.072517       0.158139   \n",
       "BMI                          0.021565  0.230941       0.281268       0.542398   \n",
       "DiabetesPedigreeFunction    -0.033523  0.137060      -0.002763       0.100966   \n",
       "Age                          0.544341  0.266534       0.324595       0.127872   \n",
       "Outcome                      0.221898  0.492928       0.166074       0.215299   \n",
       "\n",
       "                           Insulin       BMI  DiabetesPedigreeFunction  \\\n",
       "Pregnancies               0.056027  0.021565                 -0.033523   \n",
       "Glucose                   0.420157  0.230941                  0.137060   \n",
       "BloodPressure             0.072517  0.281268                 -0.002763   \n",
       "SkinThickness             0.158139  0.542398                  0.100966   \n",
       "Insulin                   1.000000  0.166586                  0.098634   \n",
       "BMI                       0.166586  1.000000                  0.153400   \n",
       "DiabetesPedigreeFunction  0.098634  0.153400                  1.000000   \n",
       "Age                       0.136734  0.025519                  0.033561   \n",
       "Outcome                   0.214411  0.311924                  0.173844   \n",
       "\n",
       "                               Age   Outcome  \n",
       "Pregnancies               0.544341  0.221898  \n",
       "Glucose                   0.266534  0.492928  \n",
       "BloodPressure             0.324595  0.166074  \n",
       "SkinThickness             0.127872  0.215299  \n",
       "Insulin                   0.136734  0.214411  \n",
       "BMI                       0.025519  0.311924  \n",
       "DiabetesPedigreeFunction  0.033561  0.173844  \n",
       "Age                       1.000000  0.238356  \n",
       "Outcome                   0.238356  1.000000  "
      ]
     },
     "execution_count": 16,
     "metadata": {},
     "output_type": "execute_result"
    }
   ],
   "source": [
    "corr"
   ]
  },
  {
   "cell_type": "markdown",
   "id": "d2e9f489",
   "metadata": {},
   "source": [
    "TRỰC QUAN HOÁ DỮ LIỆU BẢNG CORR VỚI MATPLOTLIB"
   ]
  },
  {
   "cell_type": "code",
   "execution_count": 17,
   "id": "b0ea4e55",
   "metadata": {},
   "outputs": [
    {
     "name": "stderr",
     "output_type": "stream",
     "text": [
      "C:\\Users\\Hi\\AppData\\Local\\Temp/ipykernel_12696/3748626403.py:8: UserWarning: FixedFormatter should only be used together with FixedLocator\n",
      "  ax.set_yticklabels(df.columns)\n"
     ]
    },
    {
     "data": {
      "image/png": "[encoded data removed]",
      "text/plain": [
       "<Figure size 720x720 with 2 Axes>"
      ]
     },
     "metadata": {
      "needs_background": "light"
     },
     "output_type": "display_data"
    }
   ],
   "source": [
    "fig, ax = plt.subplots(figsize=(10, 10))\n",
    "cax = ax.matshow(corr,cmap='coolwarm', vmin=-1, vmax=1)\n",
    "fig.colorbar(cax)\n",
    "ticks = np.arange(0,len(df.columns),1)\n",
    "ax.set_xticks(ticks)\n",
    "ax.set_xticklabels(df.columns)\n",
    "plt.xticks(rotation = 90)\n",
    "ax.set_yticklabels(df.columns)\n",
    "ax.set_yticks(ticks)\n",
    "#---print the correlation factor---\n",
    "for i in range(df.shape[1]):\n",
    "    for j in range(9):\n",
    "        text = ax.text(j, i, round(corr.iloc[i][j],2),ha=\"center\", va=\"center\", color=\"w\")\n",
    "plt.show()"
   ]
  },
  {
   "cell_type": "markdown",
   "id": "0a640b42",
   "metadata": {},
   "source": [
    "TRỰC QUAN HOÁ DỮ LIỆU BẢNG CORR VỚI SEABORN"
   ]
  },
  {
   "cell_type": "code",
   "execution_count": 16,
   "id": "45bf37dd",
   "metadata": {},
   "outputs": [
    {
     "data": {
      "image/png": "[encoded data removed]",
      "text/plain": [
       "<Figure size 576x576 with 2 Axes>"
      ]
     },
     "metadata": {
      "needs_background": "light"
     },
     "output_type": "display_data"
    }
   ],
   "source": [
    "import seaborn as sns\n",
    "sns.heatmap(df.corr(),annot=True)\n",
    "#---get a reference to the current figure and set its size---\n",
    "fig = plt.gcf()\n",
    "fig.set_size_inches(8,8)"
   ]
  },
  {
   "cell_type": "code",
   "execution_count": 18,
   "id": "ca6d6900",
   "metadata": {},
   "outputs": [
    {
     "data": {
      "text/plain": [
       "Index(['Outcome', 'Glucose', 'BMI', 'Age'], dtype='object')"
      ]
     },
     "execution_count": 18,
     "metadata": {},
     "output_type": "execute_result"
    }
   ],
   "source": [
    "#lấy và chon ra 4 features có mối tương quan với Outcome lớn nhất\n",
    "df.corr().nlargest(4, 'Outcome').index"
   ]
  },
  {
   "cell_type": "code",
   "execution_count": 19,
   "id": "eb92b0fa",
   "metadata": {},
   "outputs": [
    {
     "data": {
      "text/plain": [
       "array([1.        , 0.49292767, 0.31192439, 0.23835598])"
      ]
     },
     "execution_count": 19,
     "metadata": {},
     "output_type": "execute_result"
    }
   ],
   "source": [
    "df.corr().nlargest(4, 'Outcome').values[:,8]"
   ]
  },
  {
   "cell_type": "markdown",
   "id": "bb00a34d",
   "metadata": {},
   "source": [
    "LỰA CHỌN VÀ ĐÁNH GIÁ CÁC THUẬT TOÁN HỌC MÁY"
   ]
  },
  {
   "cell_type": "markdown",
   "id": "46cb025c",
   "metadata": {},
   "source": [
    "Logistic Regression"
   ]
  },
  {
   "cell_type": "code",
   "execution_count": 21,
   "id": "dca2a35c",
   "metadata": {},
   "outputs": [],
   "source": [
    "from sklearn import linear_model\n",
    "from sklearn.model_selection import cross_val_score\n",
    "#---features---\n",
    "X = df[['Glucose','BMI','Age']]\n",
    "#---label---\n",
    "y = df.iloc[:,8]\n",
    "log_regress = linear_model.LogisticRegression()\n",
    "log_regress_score = cross_val_score(log_regress, X, y, cv=10,scoring='accuracy').mean()"
   ]
  },
  {
   "cell_type": "code",
   "execution_count": 22,
   "id": "ada451f3",
   "metadata": {},
   "outputs": [
    {
     "data": {
      "text/plain": [
       "0.7669856459330144"
      ]
     },
     "execution_count": 22,
     "metadata": {},
     "output_type": "execute_result"
    }
   ],
   "source": [
    "log_regress_score"
   ]
  },
  {
   "cell_type": "code",
   "execution_count": 23,
   "id": "6b393351",
   "metadata": {},
   "outputs": [],
   "source": [
    "Result=[]\n",
    "Result.append(log_regress_score)"
   ]
  },
  {
   "cell_type": "markdown",
   "id": "03f07e68",
   "metadata": {},
   "source": [
    "K-Nearest Neighbors"
   ]
  },
  {
   "cell_type": "code",
   "execution_count": 26,
   "id": "bb9304c0",
   "metadata": {},
   "outputs": [
    {
     "name": "stdout",
     "output_type": "stream",
     "text": [
      "The optimal number of neighbors is 19\n",
      "0.7721462747778537\n"
     ]
    }
   ],
   "source": [
    "from sklearn.neighbors import KNeighborsClassifier\n",
    "from sklearn.model_selection import cross_val_score\n",
    "#---empty list that will hold cv (cross-validates) scores---\n",
    "cv_scores = []\n",
    "#---number of folds---\n",
    "folds = 10\n",
    "#---creating odd list of K for KNN---\n",
    "ks = list(range(1,int(len(X) * ((folds - 1)/folds)), 2))\n",
    "#---perform k-fold cross validation---\n",
    "for k in ks:\n",
    "    knn = KNeighborsClassifier(n_neighbors=k)\n",
    "    score = cross_val_score(knn, X, y, cv=folds, scoring='accuracy').mean()\n",
    "    cv_scores.append(score)\n",
    "#---get the maximum score---\n",
    "knn_score = max(cv_scores)\n",
    "#---find the optimal k that gives the highest score---\n",
    "optimal_k = ks[cv_scores.index(knn_score)]\n",
    "print(f\"The optimal number of neighbors is {optimal_k}\")\n",
    "print(knn_score)\n",
    "Result.append(knn_score)"
   ]
  },
  {
   "cell_type": "markdown",
   "id": "17a5e280",
   "metadata": {},
   "source": [
    "Support Vector Machines"
   ]
  },
  {
   "cell_type": "code",
   "execution_count": 27,
   "id": "69dc2d91",
   "metadata": {},
   "outputs": [
    {
     "name": "stdout",
     "output_type": "stream",
     "text": [
      "0.7656527682843473\n"
     ]
    }
   ],
   "source": [
    "from sklearn import svm\n",
    "linear_svm = svm.SVC(kernel='linear')\n",
    "linear_svm_score = cross_val_score(linear_svm, X, y,cv=10, scoring='accuracy').mean()\n",
    "print(linear_svm_score)\n",
    "Result.append(linear_svm_score)"
   ]
  },
  {
   "cell_type": "markdown",
   "id": "7646be55",
   "metadata": {},
   "source": [
    "SVM RBF KERNEL"
   ]
  },
  {
   "cell_type": "code",
   "execution_count": 28,
   "id": "591bc3c0",
   "metadata": {},
   "outputs": [
    {
     "name": "stdout",
     "output_type": "stream",
     "text": [
      "0.765704032809296\n"
     ]
    }
   ],
   "source": [
    "rbf = svm.SVC(kernel='rbf')\n",
    "rbf_score = cross_val_score(rbf, X, y, cv=10, scoring='accuracy').mean()\n",
    "print(rbf_score)\n",
    "Result.append(rbf_score)"
   ]
  },
  {
   "cell_type": "code",
   "execution_count": 32,
   "id": "edc9e83b",
   "metadata": {},
   "outputs": [
    {
     "data": {
      "text/html": [
       "<div>\n",
       "<style scoped>\n",
       "    .dataframe tbody tr th:only-of-type {\n",
       "        vertical-align: middle;\n",
       "    }\n",
       "\n",
       "    .dataframe tbody tr th {\n",
       "        vertical-align: top;\n",
       "    }\n",
       "\n",
       "    .dataframe thead th {\n",
       "        text-align: right;\n",
       "    }\n",
       "</style>\n",
       "<table border=\"1\" class=\"dataframe\">\n",
       "  <thead>\n",
       "    <tr style=\"text-align: right;\">\n",
       "      <th></th>\n",
       "      <th>Accuracy</th>\n",
       "    </tr>\n",
       "  </thead>\n",
       "  <tbody>\n",
       "    <tr>\n",
       "      <th>K Nearest Neighbors</th>\n",
       "      <td>0.772146</td>\n",
       "    </tr>\n",
       "    <tr>\n",
       "      <th>Logistic Regression</th>\n",
       "      <td>0.766986</td>\n",
       "    </tr>\n",
       "    <tr>\n",
       "      <th>SVM RBF Kernel</th>\n",
       "      <td>0.765704</td>\n",
       "    </tr>\n",
       "    <tr>\n",
       "      <th>SVM Linear Kernel</th>\n",
       "      <td>0.765653</td>\n",
       "    </tr>\n",
       "  </tbody>\n",
       "</table>\n",
       "</div>"
      ],
      "text/plain": [
       "                     Accuracy\n",
       "K Nearest Neighbors  0.772146\n",
       "Logistic Regression  0.766986\n",
       "SVM RBF Kernel       0.765704\n",
       "SVM Linear Kernel    0.765653"
      ]
     },
     "execution_count": 32,
     "metadata": {},
     "output_type": "execute_result"
    }
   ],
   "source": [
    "#đưa ra tổng quản về các thuật toán với độ chính xác,lựa chọn thuật toán tốt nhất cho bài toán\n",
    "algorithms = [\"Logistic Regression\", \"K Nearest Neighbors\", \"SVM Linear Kernel\", \"SVM RBF Kernel\"]\n",
    "cv_mean = pd.DataFrame(Result,index = algorithms)\n",
    "cv_mean.columns=[\"Accuracy\"]\n",
    "cv_mean.sort_values(by=\"Accuracy\",ascending=False)"
   ]
  },
  {
   "cell_type": "markdown",
   "id": "8aeeb56d",
   "metadata": {},
   "source": [
    "HUẤN LUYỆN MÔ HÌNH VỚI KNN"
   ]
  },
  {
   "cell_type": "code",
   "execution_count": 33,
   "id": "21ab16d7",
   "metadata": {},
   "outputs": [
    {
     "data": {
      "text/plain": [
       "KNeighborsClassifier(n_neighbors=19)"
      ]
     },
     "execution_count": 33,
     "metadata": {},
     "output_type": "execute_result"
    }
   ],
   "source": [
    "#thuật KNN cho kết quả dự đoán tốt nhất\n",
    "knn = KNeighborsClassifier(n_neighbors=19)\n",
    "knn.fit(X, y)"
   ]
  },
  {
   "cell_type": "markdown",
   "id": "553d0491",
   "metadata": {},
   "source": [
    "LƯU MÔ HÌNH"
   ]
  },
  {
   "cell_type": "code",
   "execution_count": 36,
   "id": "fb38809e",
   "metadata": {},
   "outputs": [],
   "source": [
    "import pickle\n",
    "#---save the model to disk---\n",
    "filename = 'diabetes.sav'\n",
    "#---write to the file using write and binary mode---\n",
    "pickle.dump(knn, open(filename, 'wb'))\n",
    "#knn.save('diabetes2.sav')"
   ]
  },
  {
   "cell_type": "markdown",
   "id": "881fb9d9",
   "metadata": {},
   "source": [
    "MÔ HÌNH ĐƯỢC LƯU CÓ THỂ ĐEM RA DỰ ĐOÁN"
   ]
  },
  {
   "cell_type": "code",
   "execution_count": 38,
   "id": "a372a04a",
   "metadata": {},
   "outputs": [
    {
     "name": "stdout",
     "output_type": "stream",
     "text": [
      "Non-diabetic\n"
     ]
    }
   ],
   "source": [
    "model=pickle.load(open('diabetes.sav','rb'))\n",
    "prediction=model.predict([[65,70,65]])\n",
    "if (prediction[0]==0):\n",
    "    print(\"Non-diabetic\")\n",
    "else:\n",
    "    print(\"Diabetic\")"
   ]
  },
  {
   "cell_type": "code",
   "execution_count": null,
   "id": "3d4b9837",
   "metadata": {},
   "outputs": [],
   "source": []
  }
 ],
 "metadata": {
  "kernelspec": {
   "display_name": "Python 3 (ipykernel)",
   "language": "python",
   "name": "python3"
  },
  "language_info": {
   "codemirror_mode": {
    "name": "ipython",
    "version": 3
   },
   "file_extension": ".py",
   "mimetype": "text/x-python",
   "name": "python",
   "nbconvert_exporter": "python",
   "pygments_lexer": "ipython3",
   "version": "3.9.7"
  },
  "vscode": {
   "interpreter": {
    "hash": "81830785a582968a2110cffe1964d8f451651689538b146dcf69ca503ead1894"
   }
  }
 },
 "nbformat": 4,
 "nbformat_minor": 5
}
